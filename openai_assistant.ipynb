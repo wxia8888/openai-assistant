{
  "cells": [
    {
      "cell_type": "markdown",
      "id": "a3df44d6-62d0-4324-8052-419503a6b040",
      "metadata": {
        "id": "a3df44d6-62d0-4324-8052-419503a6b040"
      },
      "source": [
        "# OpenAI Assistant\n",
        "\n"
      ]
    },
    {
      "cell_type": "code",
      "source": [
        "!pip install openai"
      ],
      "metadata": {
        "id": "r6GEnhWdpab7",
        "colab": {
          "base_uri": "https://localhost:8080/"
        },
        "outputId": "2451fd64-acc6-4b70-9b8a-75e2eafe4707"
      },
      "id": "r6GEnhWdpab7",
      "execution_count": null,
      "outputs": [
        {
          "output_type": "stream",
          "name": "stdout",
          "text": [
            "Collecting openai\n",
            "  Downloading openai-1.2.3-py3-none-any.whl (220 kB)\n",
            "\u001b[?25l     \u001b[90m━━━━━━━━━━━━━━━━━━━━━━━━━━━━━━━━━━━━━━━━\u001b[0m \u001b[32m0.0/220.3 kB\u001b[0m \u001b[31m?\u001b[0m eta \u001b[36m-:--:--\u001b[0m\r\u001b[2K     \u001b[91m━━━━━━━━━━━━━━━━━━━━━━━━━━━━━━━━━━━━━━━\u001b[0m\u001b[90m╺\u001b[0m \u001b[32m215.0/220.3 kB\u001b[0m \u001b[31m6.2 MB/s\u001b[0m eta \u001b[36m0:00:01\u001b[0m\r\u001b[2K     \u001b[90m━━━━━━━━━━━━━━━━━━━━━━━━━━━━━━━━━━━━━━━━\u001b[0m \u001b[32m220.3/220.3 kB\u001b[0m \u001b[31m4.9 MB/s\u001b[0m eta \u001b[36m0:00:00\u001b[0m\n",
            "\u001b[?25hRequirement already satisfied: anyio<4,>=3.5.0 in /usr/local/lib/python3.10/dist-packages (from openai) (3.7.1)\n",
            "Requirement already satisfied: distro<2,>=1.7.0 in /usr/lib/python3/dist-packages (from openai) (1.7.0)\n",
            "Collecting httpx<1,>=0.23.0 (from openai)\n",
            "  Downloading httpx-0.25.1-py3-none-any.whl (75 kB)\n",
            "\u001b[2K     \u001b[90m━━━━━━━━━━━━━━━━━━━━━━━━━━━━━━━━━━━━━━━━\u001b[0m \u001b[32m75.0/75.0 kB\u001b[0m \u001b[31m10.7 MB/s\u001b[0m eta \u001b[36m0:00:00\u001b[0m\n",
            "\u001b[?25hRequirement already satisfied: pydantic<3,>=1.9.0 in /usr/local/lib/python3.10/dist-packages (from openai) (1.10.13)\n",
            "Requirement already satisfied: tqdm>4 in /usr/local/lib/python3.10/dist-packages (from openai) (4.66.1)\n",
            "Requirement already satisfied: typing-extensions<5,>=4.5 in /usr/local/lib/python3.10/dist-packages (from openai) (4.5.0)\n",
            "Requirement already satisfied: idna>=2.8 in /usr/local/lib/python3.10/dist-packages (from anyio<4,>=3.5.0->openai) (3.4)\n",
            "Requirement already satisfied: sniffio>=1.1 in /usr/local/lib/python3.10/dist-packages (from anyio<4,>=3.5.0->openai) (1.3.0)\n",
            "Requirement already satisfied: exceptiongroup in /usr/local/lib/python3.10/dist-packages (from anyio<4,>=3.5.0->openai) (1.1.3)\n",
            "Requirement already satisfied: certifi in /usr/local/lib/python3.10/dist-packages (from httpx<1,>=0.23.0->openai) (2023.7.22)\n",
            "Collecting httpcore (from httpx<1,>=0.23.0->openai)\n",
            "  Downloading httpcore-1.0.2-py3-none-any.whl (76 kB)\n",
            "\u001b[2K     \u001b[90m━━━━━━━━━━━━━━━━━━━━━━━━━━━━━━━━━━━━━━━━\u001b[0m \u001b[32m76.9/76.9 kB\u001b[0m \u001b[31m11.3 MB/s\u001b[0m eta \u001b[36m0:00:00\u001b[0m\n",
            "\u001b[?25hCollecting h11<0.15,>=0.13 (from httpcore->httpx<1,>=0.23.0->openai)\n",
            "  Downloading h11-0.14.0-py3-none-any.whl (58 kB)\n",
            "\u001b[2K     \u001b[90m━━━━━━━━━━━━━━━━━━━━━━━━━━━━━━━━━━━━━━━━\u001b[0m \u001b[32m58.3/58.3 kB\u001b[0m \u001b[31m9.1 MB/s\u001b[0m eta \u001b[36m0:00:00\u001b[0m\n",
            "\u001b[?25hInstalling collected packages: h11, httpcore, httpx, openai\n",
            "\u001b[31mERROR: pip's dependency resolver does not currently take into account all the packages that are installed. This behaviour is the source of the following dependency conflicts.\n",
            "llmx 0.0.15a0 requires cohere, which is not installed.\n",
            "llmx 0.0.15a0 requires tiktoken, which is not installed.\u001b[0m\u001b[31m\n",
            "\u001b[0mSuccessfully installed h11-0.14.0 httpcore-1.0.2 httpx-0.25.1 openai-1.2.3\n"
          ]
        }
      ]
    },
    {
      "cell_type": "code",
      "source": [
        "# make sure you have a .env file prepared on your local machine with the OPENAI API Key, Amadeus API Client Id and Client Secret\n",
        "#upload your .env file\n",
        "from google.colab import files\n",
        "\n",
        "uploaded = files.upload()"
      ],
      "metadata": {
        "colab": {
          "base_uri": "https://localhost:8080/",
          "height": 69
        },
        "id": "Oq6DEbBV044G",
        "outputId": "54c42824-1785-41a1-c094-e5ed84076276"
      },
      "id": "Oq6DEbBV044G",
      "execution_count": null,
      "outputs": [
        {
          "output_type": "display_data",
          "data": {
            "text/plain": [
              "<IPython.core.display.HTML object>"
            ],
            "text/html": [
              "\n",
              "     <input type=\"file\" id=\"files-b175be9e-058d-42aa-8cf5-69613f2d126a\" name=\"files[]\" multiple disabled\n",
              "        style=\"border:none\" />\n",
              "     <output id=\"result-b175be9e-058d-42aa-8cf5-69613f2d126a\">\n",
              "      Upload widget is only available when the cell has been executed in the\n",
              "      current browser session. Please rerun this cell to enable.\n",
              "      </output>\n",
              "      <script>// Copyright 2017 Google LLC\n",
              "//\n",
              "// Licensed under the Apache License, Version 2.0 (the \"License\");\n",
              "// you may not use this file except in compliance with the License.\n",
              "// You may obtain a copy of the License at\n",
              "//\n",
              "//      http://www.apache.org/licenses/LICENSE-2.0\n",
              "//\n",
              "// Unless required by applicable law or agreed to in writing, software\n",
              "// distributed under the License is distributed on an \"AS IS\" BASIS,\n",
              "// WITHOUT WARRANTIES OR CONDITIONS OF ANY KIND, either express or implied.\n",
              "// See the License for the specific language governing permissions and\n",
              "// limitations under the License.\n",
              "\n",
              "/**\n",
              " * @fileoverview Helpers for google.colab Python module.\n",
              " */\n",
              "(function(scope) {\n",
              "function span(text, styleAttributes = {}) {\n",
              "  const element = document.createElement('span');\n",
              "  element.textContent = text;\n",
              "  for (const key of Object.keys(styleAttributes)) {\n",
              "    element.style[key] = styleAttributes[key];\n",
              "  }\n",
              "  return element;\n",
              "}\n",
              "\n",
              "// Max number of bytes which will be uploaded at a time.\n",
              "const MAX_PAYLOAD_SIZE = 100 * 1024;\n",
              "\n",
              "function _uploadFiles(inputId, outputId) {\n",
              "  const steps = uploadFilesStep(inputId, outputId);\n",
              "  const outputElement = document.getElementById(outputId);\n",
              "  // Cache steps on the outputElement to make it available for the next call\n",
              "  // to uploadFilesContinue from Python.\n",
              "  outputElement.steps = steps;\n",
              "\n",
              "  return _uploadFilesContinue(outputId);\n",
              "}\n",
              "\n",
              "// This is roughly an async generator (not supported in the browser yet),\n",
              "// where there are multiple asynchronous steps and the Python side is going\n",
              "// to poll for completion of each step.\n",
              "// This uses a Promise to block the python side on completion of each step,\n",
              "// then passes the result of the previous step as the input to the next step.\n",
              "function _uploadFilesContinue(outputId) {\n",
              "  const outputElement = document.getElementById(outputId);\n",
              "  const steps = outputElement.steps;\n",
              "\n",
              "  const next = steps.next(outputElement.lastPromiseValue);\n",
              "  return Promise.resolve(next.value.promise).then((value) => {\n",
              "    // Cache the last promise value to make it available to the next\n",
              "    // step of the generator.\n",
              "    outputElement.lastPromiseValue = value;\n",
              "    return next.value.response;\n",
              "  });\n",
              "}\n",
              "\n",
              "/**\n",
              " * Generator function which is called between each async step of the upload\n",
              " * process.\n",
              " * @param {string} inputId Element ID of the input file picker element.\n",
              " * @param {string} outputId Element ID of the output display.\n",
              " * @return {!Iterable<!Object>} Iterable of next steps.\n",
              " */\n",
              "function* uploadFilesStep(inputId, outputId) {\n",
              "  const inputElement = document.getElementById(inputId);\n",
              "  inputElement.disabled = false;\n",
              "\n",
              "  const outputElement = document.getElementById(outputId);\n",
              "  outputElement.innerHTML = '';\n",
              "\n",
              "  const pickedPromise = new Promise((resolve) => {\n",
              "    inputElement.addEventListener('change', (e) => {\n",
              "      resolve(e.target.files);\n",
              "    });\n",
              "  });\n",
              "\n",
              "  const cancel = document.createElement('button');\n",
              "  inputElement.parentElement.appendChild(cancel);\n",
              "  cancel.textContent = 'Cancel upload';\n",
              "  const cancelPromise = new Promise((resolve) => {\n",
              "    cancel.onclick = () => {\n",
              "      resolve(null);\n",
              "    };\n",
              "  });\n",
              "\n",
              "  // Wait for the user to pick the files.\n",
              "  const files = yield {\n",
              "    promise: Promise.race([pickedPromise, cancelPromise]),\n",
              "    response: {\n",
              "      action: 'starting',\n",
              "    }\n",
              "  };\n",
              "\n",
              "  cancel.remove();\n",
              "\n",
              "  // Disable the input element since further picks are not allowed.\n",
              "  inputElement.disabled = true;\n",
              "\n",
              "  if (!files) {\n",
              "    return {\n",
              "      response: {\n",
              "        action: 'complete',\n",
              "      }\n",
              "    };\n",
              "  }\n",
              "\n",
              "  for (const file of files) {\n",
              "    const li = document.createElement('li');\n",
              "    li.append(span(file.name, {fontWeight: 'bold'}));\n",
              "    li.append(span(\n",
              "        `(${file.type || 'n/a'}) - ${file.size} bytes, ` +\n",
              "        `last modified: ${\n",
              "            file.lastModifiedDate ? file.lastModifiedDate.toLocaleDateString() :\n",
              "                                    'n/a'} - `));\n",
              "    const percent = span('0% done');\n",
              "    li.appendChild(percent);\n",
              "\n",
              "    outputElement.appendChild(li);\n",
              "\n",
              "    const fileDataPromise = new Promise((resolve) => {\n",
              "      const reader = new FileReader();\n",
              "      reader.onload = (e) => {\n",
              "        resolve(e.target.result);\n",
              "      };\n",
              "      reader.readAsArrayBuffer(file);\n",
              "    });\n",
              "    // Wait for the data to be ready.\n",
              "    let fileData = yield {\n",
              "      promise: fileDataPromise,\n",
              "      response: {\n",
              "        action: 'continue',\n",
              "      }\n",
              "    };\n",
              "\n",
              "    // Use a chunked sending to avoid message size limits. See b/62115660.\n",
              "    let position = 0;\n",
              "    do {\n",
              "      const length = Math.min(fileData.byteLength - position, MAX_PAYLOAD_SIZE);\n",
              "      const chunk = new Uint8Array(fileData, position, length);\n",
              "      position += length;\n",
              "\n",
              "      const base64 = btoa(String.fromCharCode.apply(null, chunk));\n",
              "      yield {\n",
              "        response: {\n",
              "          action: 'append',\n",
              "          file: file.name,\n",
              "          data: base64,\n",
              "        },\n",
              "      };\n",
              "\n",
              "      let percentDone = fileData.byteLength === 0 ?\n",
              "          100 :\n",
              "          Math.round((position / fileData.byteLength) * 100);\n",
              "      percent.textContent = `${percentDone}% done`;\n",
              "\n",
              "    } while (position < fileData.byteLength);\n",
              "  }\n",
              "\n",
              "  // All done.\n",
              "  yield {\n",
              "    response: {\n",
              "      action: 'complete',\n",
              "    }\n",
              "  };\n",
              "}\n",
              "\n",
              "scope.google = scope.google || {};\n",
              "scope.google.colab = scope.google.colab || {};\n",
              "scope.google.colab._files = {\n",
              "  _uploadFiles,\n",
              "  _uploadFilesContinue,\n",
              "};\n",
              "})(self);\n",
              "</script> "
            ]
          },
          "metadata": {}
        },
        {
          "output_type": "stream",
          "name": "stdout",
          "text": [
            "Saving key.env to key.env\n"
          ]
        }
      ]
    },
    {
      "cell_type": "code",
      "source": [
        "!pip install python-dotenv"
      ],
      "metadata": {
        "colab": {
          "base_uri": "https://localhost:8080/"
        },
        "id": "e_nBeS_Z2B_1",
        "outputId": "1f2f699b-15f1-40ca-fbd7-2ffdb9a5ee6c"
      },
      "id": "e_nBeS_Z2B_1",
      "execution_count": null,
      "outputs": [
        {
          "output_type": "stream",
          "name": "stdout",
          "text": [
            "Collecting python-dotenv\n",
            "  Downloading python_dotenv-1.0.0-py3-none-any.whl (19 kB)\n",
            "Installing collected packages: python-dotenv\n",
            "Successfully installed python-dotenv-1.0.0\n"
          ]
        }
      ]
    },
    {
      "cell_type": "code",
      "execution_count": null,
      "id": "3d1a7aac-599c-4653-b497-49fe9a31a07d",
      "metadata": {
        "height": 115,
        "tags": [],
        "id": "3d1a7aac-599c-4653-b497-49fe9a31a07d"
      },
      "outputs": [],
      "source": [
        "from dotenv import load_dotenv\n",
        "import os\n",
        "\n",
        "load_dotenv('key.env')\n",
        "\n",
        "# Now you can retrieve your variables\n",
        "OPENAI = os.getenv('OPENAI')\n",
        "\n",
        "import openai\n",
        "import json\n",
        "\n",
        "openai.api_key = OPENAI"
      ]
    },
    {
      "cell_type": "code",
      "source": [
        "!pip install amadeus"
      ],
      "metadata": {
        "id": "YvYB9AkCoqha",
        "colab": {
          "base_uri": "https://localhost:8080/"
        },
        "outputId": "24479393-22df-4f25-db53-19ca86659305"
      },
      "id": "YvYB9AkCoqha",
      "execution_count": null,
      "outputs": [
        {
          "output_type": "stream",
          "name": "stdout",
          "text": [
            "Collecting amadeus\n",
            "  Downloading amadeus-9.0.0.tar.gz (39 kB)\n",
            "  Preparing metadata (setup.py) ... \u001b[?25l\u001b[?25hdone\n",
            "Building wheels for collected packages: amadeus\n",
            "  Building wheel for amadeus (setup.py) ... \u001b[?25l\u001b[?25hdone\n",
            "  Created wheel for amadeus: filename=amadeus-9.0.0-py2.py3-none-any.whl size=75047 sha256=78d776f3a519c6a354658388e5717bd9690f22ee7c7a35426d87f7566dcff97f\n",
            "  Stored in directory: /root/.cache/pip/wheels/b0/50/ea/3417d93eee6760a945d7711333d8d42b9f482e84600ef7f711\n",
            "Successfully built amadeus\n",
            "Installing collected packages: amadeus\n",
            "Successfully installed amadeus-9.0.0\n"
          ]
        }
      ]
    },
    {
      "cell_type": "code",
      "source": [
        "from amadeus import Client, ResponseError"
      ],
      "metadata": {
        "id": "UPrmM1TLtkXP"
      },
      "id": "UPrmM1TLtkXP",
      "execution_count": null,
      "outputs": []
    },
    {
      "cell_type": "code",
      "source": [
        "CLIENT_ID = os.getenv('CLIENT_ID')\n",
        "CLIENT_SECRET = os.getenv('CLIENT_SECRET')"
      ],
      "metadata": {
        "id": "0p5vdQ5L2c01"
      },
      "id": "0p5vdQ5L2c01",
      "execution_count": null,
      "outputs": []
    },
    {
      "cell_type": "code",
      "source": [
        "amadeus = Client(\n",
        "    client_id= CLIENT_ID,\n",
        "    client_secret= CLIENT_SECRET\n",
        ")"
      ],
      "metadata": {
        "id": "ImixbSmQtksB"
      },
      "id": "ImixbSmQtksB",
      "execution_count": null,
      "outputs": []
    },
    {
      "cell_type": "code",
      "source": [
        "def city_code_search(city_name):\n",
        "    try:\n",
        "        response = amadeus.reference_data.locations.get(keyword=city_name, subType='CITY')\n",
        "        return response.data[0]['address']['cityCode']\n",
        "    except ResponseError as error:\n",
        "        return(error)"
      ],
      "metadata": {
        "id": "2cPel6l9tw5-"
      },
      "id": "2cPel6l9tw5-",
      "execution_count": null,
      "outputs": []
    },
    {
      "cell_type": "code",
      "source": [
        "def hotel_city_search(cityCode):\n",
        "    try:\n",
        "        response = amadeus.reference_data.locations.hotels.by_city.get(cityCode=cityCode)\n",
        "        hotel_names = [item['hotelId'] for item in response.data[:50]]\n",
        "        return hotel_names\n",
        "\n",
        "    except ResponseError as error:\n",
        "        return(error)\n"
      ],
      "metadata": {
        "id": "1u1WQBGkt2y8"
      },
      "id": "1u1WQBGkt2y8",
      "execution_count": null,
      "outputs": []
    },
    {
      "cell_type": "code",
      "source": [
        "from datetime import date, timedelta\n",
        "\n",
        "def hotel_offers_search(hotelIds, checkInDate = date.today() ,\n",
        "                        checkOutDate = date.today() + timedelta(days=1)\n",
        "                       ):\n",
        "    try:\n",
        "        response = amadeus.shopping.hotel_offers_search.get(\n",
        "            hotelIds= hotelIds,\n",
        "            checkInDate = checkInDate,\n",
        "            checkOutDate = checkOutDate\n",
        "        )\n",
        "        return(response.data)\n",
        "    except ResponseError as error:\n",
        "        return(error)\n"
      ],
      "metadata": {
        "id": "Qe6SOmlRt29E"
      },
      "id": "Qe6SOmlRt29E",
      "execution_count": null,
      "outputs": []
    },
    {
      "cell_type": "code",
      "source": [
        "def get_hotel_offers(location, check_in_date = date.today() ,\n",
        "                        check_out_date = date.today() + timedelta(days=1)\n",
        "                       ):\n",
        "    hotel_offers = hotel_offers_search( hotel_city_search(city_code_search(location)), check_in_date, check_out_date)\n",
        "    return json.dumps(hotel_offers)"
      ],
      "metadata": {
        "id": "ODvRrl8KOooO"
      },
      "id": "ODvRrl8KOooO",
      "execution_count": null,
      "outputs": []
    },
    {
      "cell_type": "code",
      "source": [
        "# define a tool\n",
        "tools = [\n",
        "        {\n",
        "        \"type\":\"function\",\n",
        "        \"function\" : {\n",
        "          \"name\": \"get_hotel_offers\",\n",
        "          \"description\": \"Get the hotel offers in a given location\",\n",
        "          \"parameters\": {\n",
        "            \"type\": \"object\",\n",
        "            \"properties\": {\n",
        "                \"location\": {\n",
        "                    \"type\": \"string\",\n",
        "                    \"description\": \"city/state, e.g. Portland/OR\",\n",
        "                },\n",
        "                \"check_in_date\": {\n",
        "                    \"type\" : \"string\",\n",
        "                    \"description\": \"Check-in date of the stay (hotel local date). Format YYYY-MM-DD.\\\n",
        "                      The lowest accepted value is the present date (no dates in the past).\\\n",
        "                      If not present, the default value will be today's date in the GMT time zone. \\\n",
        "                      Example : 2023-11-22\"\n",
        "                },\n",
        "                \"check_out_date\": {\n",
        "                    \"type\" : \"string\",\n",
        "                    \"description\": \"Check-out date of the stay (hotel local date). Format YYYY-MM-DD.\\\n",
        "                      The lowest accepted value is check_in_date+1. If not present, it will default to check_in_date +1. Example : 2023-11-23 \"\n",
        "                },\n",
        "            },\n",
        "            \"required\": [\"location\"],\n",
        "        },\n",
        "      }\n",
        "    }\n",
        "]"
      ],
      "metadata": {
        "id": "HMJWTlga_qOq"
      },
      "id": "HMJWTlga_qOq",
      "execution_count": null,
      "outputs": []
    },
    {
      "cell_type": "code",
      "source": [
        "from openai import OpenAI\n",
        "client = openai"
      ],
      "metadata": {
        "id": "fGmX-Hx0O52h"
      },
      "id": "fGmX-Hx0O52h",
      "execution_count": null,
      "outputs": []
    },
    {
      "cell_type": "code",
      "source": [
        "assistant = client.beta.assistants.create(\n",
        "  instructions=\"You are a travel agent. Use the provided functions to answer questions. Please do not share the booking link\",\n",
        "  model=\"gpt-3.5-turbo-0613\",\n",
        "  tools= tools\n",
        ")"
      ],
      "metadata": {
        "id": "dEeFZlzCJRiO"
      },
      "id": "dEeFZlzCJRiO",
      "execution_count": null,
      "outputs": []
    },
    {
      "cell_type": "code",
      "source": [
        "thread = client.beta.threads.create(\n",
        "  messages=[\n",
        "    {\n",
        "        \"role\": \"user\",\n",
        "        \"content\": \"Hello,  I want to go to Las Vegas, arrive 11/22, departure 11/25, please find hotels for me.  Thank you.\"\n",
        "    }\n",
        "]\n",
        ")"
      ],
      "metadata": {
        "id": "VjCnoF_Vjwct"
      },
      "id": "VjCnoF_Vjwct",
      "execution_count": null,
      "outputs": []
    },
    {
      "cell_type": "code",
      "source": [
        "run = client.beta.threads.runs.create(\n",
        "  thread_id=thread.id,\n",
        "  assistant_id=assistant.id\n",
        ")"
      ],
      "metadata": {
        "id": "roxLFuGcjWHR"
      },
      "id": "roxLFuGcjWHR",
      "execution_count": null,
      "outputs": []
    },
    {
      "cell_type": "markdown",
      "source": [
        " # Poll for the run to complete and retrieve the assistant's messages"
      ],
      "metadata": {
        "id": "tNgJfwbV98yk"
      },
      "id": "tNgJfwbV98yk"
    },
    {
      "cell_type": "code",
      "source": [
        "import time\n",
        "while run.status != 'completed':\n",
        "            time.sleep(1)\n",
        "            run = client.beta.threads.runs.retrieve(\n",
        "                thread_id=thread.id,\n",
        "                run_id=run.id\n",
        "            )\n",
        "            if run.status == \"requires_action\":\n",
        "              required_action = run.required_action\n",
        "\n",
        "              # Check if the required action is 'submit_tool_outputs'\n",
        "              if required_action.type == \"submit_tool_outputs\":\n",
        "                tool_outputs = []\n",
        "                for tool_call in required_action.submit_tool_outputs.tool_calls:\n",
        "                # Check if the tool call is a function\n",
        "                  if tool_call.type == \"function\":\n",
        "                    function_name = tool_call.function.name\n",
        "                    arguments_json = tool_call.function.arguments\n",
        "\n",
        "                    # Parse the JSON arguments\n",
        "                    arguments = json.loads(arguments_json)\n",
        "\n",
        "                    # Assuming you have a function mapping\n",
        "                    function_mapping = {\n",
        "                      \"get_hotel_offers\": get_hotel_offers,  # get_hotel_offers is a function defined in your code\n",
        "                      # ... other function mappings\n",
        "                    }\n",
        "\n",
        "                    # Check if the function exists and call it\n",
        "                    if function_name in function_mapping:\n",
        "                      print('Calling function: ', function_name,arguments_json )\n",
        "                      response = function_mapping[function_name](**arguments)\n",
        "                      print('Function response: ', response)\n",
        "                      tool_outputs.append({\n",
        "                        \"tool_call_id\": tool_call.id,\n",
        "                        \"output\": response,\n",
        "                      })\n",
        "                    # submit the tool outputs to the thread and run\n",
        "                    print('submit the tool outputs to the thread and run')\n",
        "                    run = client.beta.threads.runs.submit_tool_outputs(\n",
        "                      thread_id=thread.id,\n",
        "                      run_id=run.id,\n",
        "                      tool_outputs= tool_outputs\n",
        "                    )\n"
      ],
      "metadata": {
        "colab": {
          "base_uri": "https://localhost:8080/"
        },
        "id": "uXahxkyb9UhL",
        "outputId": "53ca578f-c993-4bbc-c386-a34501c162ce"
      },
      "id": "uXahxkyb9UhL",
      "execution_count": null,
      "outputs": [
        {
          "output_type": "stream",
          "name": "stdout",
          "text": [
            "Calling function:  get_hotel_offers {\n",
            "  \"location\": \"Las Vegas\",\n",
            "  \"check_in_date\": \"2023-11-22\",\n",
            "  \"check_out_date\": \"2023-11-25\"\n",
            "}\n",
            "Function response:  [{\"type\": \"hotel-offers\", \"hotel\": {\"type\": \"hotel\", \"hotelId\": \"BWLAS058\", \"chainCode\": \"BW\", \"dupeId\": \"700070959\", \"name\": \"Best Western McCarran Inn\", \"cityCode\": \"LAS\", \"latitude\": 36.1, \"longitude\": -115.14932}, \"available\": true, \"offers\": [{\"id\": \"L4Y9ZEK2FJ\", \"checkInDate\": \"2023-11-22\", \"checkOutDate\": \"2023-11-25\", \"rateCode\": \"RAC\", \"rateFamilyEstimated\": {\"code\": \"BAR\", \"type\": \"P\"}, \"commission\": {\"percentage\": \"10\"}, \"boardType\": \"BREAKFAST\", \"room\": {\"type\": \"A1K\", \"typeEstimated\": {\"category\": \"STANDARD_ROOM\", \"beds\": 1, \"bedType\": \"KING\"}, \"description\": {\"text\": \"FLEXIBLE RATE*BEST LEAST RESTRICTIVE RATE\\n1 KING BED,MOBACC,COMAST,ROLLSH,NSMK,\\nFULL BREAKFAST\", \"lang\": \"EN\"}}, \"guests\": {\"adults\": 1}, \"price\": {\"currency\": \"USD\", \"base\": \"297.00\", \"total\": \"352.50\", \"taxes\": [{\"code\": \"TOTAL_TAX\", \"amount\": \"55.50\", \"currency\": \"USD\", \"included\": false}]}, \"policies\": {\"cancellations\": [{\"deadline\": \"2023-11-21T16:00:00-08:00\"}]}, \"self\": \"https://test.api.amadeus.com/v3/shopping/hotel-offers/L4Y9ZEK2FJ\"}], \"self\": \"https://test.api.amadeus.com/v3/shopping/hotel-offers?hotelIds=BWLAS058&checkInDate=2023-11-22&checkOutDate=2023-11-25\"}, {\"type\": \"hotel-offers\", \"hotel\": {\"type\": \"hotel\", \"hotelId\": \"BWLAS084\", \"chainCode\": \"BW\", \"dupeId\": \"700067987\", \"name\": \"Best Western Plus Las Vegas West\", \"cityCode\": \"LAS\", \"latitude\": 36.14262, \"longitude\": -115.28071}, \"available\": true, \"offers\": [{\"id\": \"B139U5NDKJ\", \"checkInDate\": \"2023-11-22\", \"checkOutDate\": \"2023-11-25\", \"rateCode\": \"3NS\", \"rateFamilyEstimated\": {\"code\": \"PRO\", \"type\": \"P\"}, \"commission\": {\"percentage\": \"10\"}, \"boardType\": \"BREAKFAST\", \"room\": {\"type\": \"C1K\", \"typeEstimated\": {\"category\": \"STANDARD_ROOM\", \"beds\": 1, \"bedType\": \"KING\"}, \"description\": {\"text\": \"MULTI NIGHT STAY PROMOTION\\n1 KING BED,NSMK,MICRFG,FLATSC,HISPD,COFMKR,\\nIRON,FULL BREAKFAST\", \"lang\": \"EN\"}}, \"guests\": {\"adults\": 1}, \"price\": {\"currency\": \"USD\", \"base\": \"324.70\", \"total\": \"366.91\", \"taxes\": [{\"code\": \"TOTAL_TAX\", \"amount\": \"42.21\", \"currency\": \"USD\", \"included\": false}]}, \"policies\": {\"cancellations\": [{\"description\": {\"text\": \"NON-REFUNDABLE RATE\"}, \"type\": \"FULL_STAY\"}]}, \"self\": \"https://test.api.amadeus.com/v3/shopping/hotel-offers/B139U5NDKJ\"}], \"self\": \"https://test.api.amadeus.com/v3/shopping/hotel-offers?hotelIds=BWLAS084&checkInDate=2023-11-22&checkOutDate=2023-11-25\"}, {\"type\": \"hotel-offers\", \"hotel\": {\"type\": \"hotel\", \"hotelId\": \"BWLAS087\", \"chainCode\": \"BW\", \"dupeId\": \"700081442\", \"name\": \"Best Western Plus Casino Royale\\u2013Center Strip\", \"cityCode\": \"LAS\", \"latitude\": 36.12037, \"longitude\": -115.17132}, \"available\": true, \"offers\": [{\"id\": \"RRNXU2R6LB\", \"checkInDate\": \"2023-11-22\", \"checkOutDate\": \"2023-11-25\", \"rateCode\": \"DB6\", \"rateFamilyEstimated\": {\"code\": \"PRO\", \"type\": \"P\"}, \"commission\": {\"percentage\": \"10\"}, \"room\": {\"type\": \"A1K\", \"typeEstimated\": {\"category\": \"STANDARD_ROOM\", \"beds\": 1, \"bedType\": \"KING\"}, \"description\": {\"text\": \"ADVANCE PURCHASE\\n1 KING BED,NSMK,42IN LCD  TV,REFRIGERATOR,SAFE\\nSTANDARD\", \"lang\": \"EN\"}}, \"guests\": {\"adults\": 1}, \"price\": {\"currency\": \"USD\", \"base\": \"230.97\", \"total\": \"261.86\", \"taxes\": [{\"code\": \"TOTAL_TAX\", \"amount\": \"30.89\", \"currency\": \"USD\", \"included\": false}]}, \"policies\": {\"cancellations\": [{\"description\": {\"text\": \"NON-REFUNDABLE RATE\"}, \"type\": \"FULL_STAY\"}]}, \"self\": \"https://test.api.amadeus.com/v3/shopping/hotel-offers/RRNXU2R6LB\"}], \"self\": \"https://test.api.amadeus.com/v3/shopping/hotel-offers?hotelIds=BWLAS087&checkInDate=2023-11-22&checkOutDate=2023-11-25\"}, {\"type\": \"hotel-offers\", \"hotel\": {\"type\": \"hotel\", \"hotelId\": \"BWLAS088\", \"chainCode\": \"BW\", \"dupeId\": \"501911981\", \"name\": \"Best Western Plus Las Vegas South Henderson\", \"cityCode\": \"LAS\", \"latitude\": 36.00021, \"longitude\": -115.12187}, \"available\": true, \"offers\": [{\"id\": \"9D0F1NY4KS\", \"checkInDate\": \"2023-11-22\", \"checkOutDate\": \"2023-11-25\", \"rateCode\": \"DB6\", \"rateFamilyEstimated\": {\"code\": \"PRO\", \"type\": \"P\"}, \"commission\": {\"percentage\": \"10\"}, \"boardType\": \"BREAKFAST\", \"room\": {\"type\": \"A2Q\", \"typeEstimated\": {\"category\": \"STANDARD_ROOM\", \"beds\": 2, \"bedType\": \"QUEEN\"}, \"description\": {\"text\": \"ADVANCE PURCHASE\\n2 QUEEN BEDS,NSMK,PILLOWTOP BED,42IN LED TV,\\nMICRFG,FULL BREAKFAST\", \"lang\": \"EN\"}}, \"guests\": {\"adults\": 1}, \"price\": {\"currency\": \"USD\", \"base\": \"388.45\", \"total\": \"537.91\", \"taxes\": [{\"code\": \"TOTAL_TAX\", \"amount\": \"149.46\", \"currency\": \"USD\", \"included\": false}]}, \"policies\": {\"cancellations\": [{\"description\": {\"text\": \"NON-REFUNDABLE RATE\"}, \"type\": \"FULL_STAY\"}]}, \"self\": \"https://test.api.amadeus.com/v3/shopping/hotel-offers/9D0F1NY4KS\"}], \"self\": \"https://test.api.amadeus.com/v3/shopping/hotel-offers?hotelIds=BWLAS088&checkInDate=2023-11-22&checkOutDate=2023-11-25\"}, {\"type\": \"hotel-offers\", \"hotel\": {\"type\": \"hotel\", \"hotelId\": \"CYLASCHC\", \"chainCode\": \"CY\", \"dupeId\": \"700065665\", \"name\": \"Courtyard by Marriott Las Vegas Convention Center\", \"cityCode\": \"LAS\", \"latitude\": 36.13024, \"longitude\": -115.1558}, \"available\": true, \"offers\": [{\"id\": \"6VQSWWS0VQ\", \"checkInDate\": \"2023-11-22\", \"checkOutDate\": \"2023-11-25\", \"rateCode\": \"RAC\", \"rateFamilyEstimated\": {\"code\": \"PRO\", \"type\": \"P\"}, \"room\": {\"type\": \"SM3\", \"typeEstimated\": {\"category\": \"STANDARD_ROOM\"}, \"description\": {\"text\": \"Prepay Non-refundable, changes up to 4 days prior to stay\\nSteps away from the Las Vegas Convention\\nCenter, Brand New Guest Room, Flat Screen TV\", \"lang\": \"EN\"}}, \"guests\": {\"adults\": 1}, \"price\": {\"currency\": \"USD\", \"base\": \"493.00\", \"total\": \"558.96\", \"variations\": {\"average\": {\"base\": \"164.33\"}, \"changes\": [{\"startDate\": \"2023-11-22\", \"endDate\": \"2023-11-23\", \"base\": \"143.00\"}, {\"startDate\": \"2023-11-23\", \"endDate\": \"2023-11-25\", \"base\": \"175.00\"}]}}, \"policies\": {\"cancellations\": [{\"description\": {\"text\": \"NON-REFUNDABLE RATE\"}, \"type\": \"FULL_STAY\"}], \"paymentType\": \"deposit\"}, \"self\": \"https://test.api.amadeus.com/v3/shopping/hotel-offers/6VQSWWS0VQ\"}], \"self\": \"https://test.api.amadeus.com/v3/shopping/hotel-offers?hotelIds=CYLASCHC&checkInDate=2023-11-22&checkOutDate=2023-11-25\"}, {\"type\": \"hotel-offers\", \"hotel\": {\"type\": \"hotel\", \"hotelId\": \"CYLASCYC\", \"chainCode\": \"CY\", \"dupeId\": \"700118899\", \"name\": \"Courtyard by Marriott Las Vegas South\", \"cityCode\": \"LAS\", \"latitude\": 36.0812, \"longitude\": -115.21163}, \"available\": true, \"offers\": [{\"id\": \"4Y9UFNN4X3\", \"checkInDate\": \"2023-11-22\", \"checkOutDate\": \"2023-11-25\", \"rateCode\": \"S9R\", \"rateFamilyEstimated\": {\"code\": \"SRS\", \"type\": \"C\"}, \"room\": {\"type\": \"XMI\", \"typeEstimated\": {\"category\": \"STANDARD_ROOM\", \"beds\": 1, \"bedType\": \"KING\"}, \"description\": {\"text\": \"Marriott Senior Discount, includes deposit required\\n1 King, Sofa bed, Mini fridge, 390sqft/35sqm,\\nWireless internet, complimentary, Wired\", \"lang\": \"EN\"}}, \"guests\": {\"adults\": 1}, \"price\": {\"currency\": \"USD\", \"base\": \"448.00\", \"total\": \"507.94\", \"variations\": {\"average\": {\"base\": \"149.33\"}, \"changes\": [{\"startDate\": \"2023-11-22\", \"endDate\": \"2023-11-24\", \"base\": \"130.00\"}, {\"startDate\": \"2023-11-24\", \"endDate\": \"2023-11-25\", \"base\": \"188.00\"}]}}, \"policies\": {\"cancellations\": [{\"amount\": \"147.39\", \"deadline\": \"2023-11-20T23:59:00-08:00\"}], \"paymentType\": \"deposit\"}, \"self\": \"https://test.api.amadeus.com/v3/shopping/hotel-offers/4Y9UFNN4X3\"}], \"self\": \"https://test.api.amadeus.com/v3/shopping/hotel-offers?hotelIds=CYLASCYC&checkInDate=2023-11-22&checkOutDate=2023-11-25\"}, {\"type\": \"hotel-offers\", \"hotel\": {\"type\": \"hotel\", \"hotelId\": \"ESLAS360\", \"chainCode\": \"ES\", \"dupeId\": \"700035755\", \"name\": \"EMBASSY STE CONV CTR LAS VEGAS\", \"cityCode\": \"LAS\", \"latitude\": 36.12475, \"longitude\": -115.15474}, \"available\": true, \"offers\": [{\"id\": \"RNL1D9RQLY\", \"checkInDate\": \"2023-11-22\", \"checkOutDate\": \"2023-11-25\", \"rateCode\": \"RAC\", \"rateFamilyEstimated\": {\"code\": \"AAA\", \"type\": \"C\"}, \"commission\": {\"percentage\": \"10\"}, \"boardType\": \"BREAKFAST\", \"room\": {\"type\": \"A03\", \"typeEstimated\": {\"category\": \"SUITE\", \"beds\": 1, \"bedType\": \"KING\"}, \"description\": {\"text\": \"AAA SUITE DEAL\\n2 ROOM SUITE-1 KING BED-NONSMOKING\\nWIFI AVL-SLEEPER SOFA-MICROWAVE-REFRIGERATOR\\nCOMP COOKED TO ORDER BRKFST-EVENING RECEPTION\", \"lang\": \"EN\"}}, \"guests\": {\"adults\": 1}, \"price\": {\"currency\": \"USD\", \"base\": \"593.75\", \"total\": \"673.19\", \"taxes\": [{\"code\": \"TOTAL_TAX\", \"pricingFrequency\": \"PER_STAY\", \"pricingMode\": \"PER_PRODUCT\", \"amount\": \"79.44\", \"currency\": \"USD\", \"included\": false}], \"variations\": {\"average\": {\"base\": \"197.92\"}, \"changes\": [{\"startDate\": \"2023-11-22\", \"endDate\": \"2023-11-23\", \"base\": \"178.07\"}, {\"startDate\": \"2023-11-23\", \"endDate\": \"2023-11-24\", \"base\": \"198.87\"}, {\"startDate\": \"2023-11-24\", \"endDate\": \"2023-11-25\", \"base\": \"216.81\"}]}}, \"policies\": {\"cancellations\": [{\"description\": {\"text\": \"Plus Taxes and fees where appropriate.\"}, \"amount\": \"178.07\", \"deadline\": \"2023-11-21T23:59:00-08:00\"}], \"guarantee\": {\"acceptedPayments\": {\"creditCards\": [\"VI\", \"CA\", \"AX\", \"DC\", \"DS\", \"JC\", \"CU\"], \"methods\": [\"CREDIT_CARD\"]}}, \"paymentType\": \"guarantee\"}, \"self\": \"https://test.api.amadeus.com/v3/shopping/hotel-offers/RNL1D9RQLY\"}], \"self\": \"https://test.api.amadeus.com/v3/shopping/hotel-offers?hotelIds=ESLAS360&checkInDate=2023-11-22&checkOutDate=2023-11-25\"}, {\"type\": \"hotel-offers\", \"hotel\": {\"type\": \"hotel\", \"hotelId\": \"ESLASHF2\", \"chainCode\": \"ES\", \"dupeId\": \"700035756\", \"name\": \"EMBASSY STES LAS VEGAS NV\", \"cityCode\": \"LAS\", \"latitude\": 36.1111, \"longitude\": -115.15065}, \"available\": true, \"offers\": [{\"id\": \"8BG2JFOIAI\", \"checkInDate\": \"2023-11-22\", \"checkOutDate\": \"2023-11-25\", \"rateCode\": \"RAC\", \"commission\": {\"percentage\": \"10\"}, \"boardType\": \"BREAKFAST\", \"room\": {\"type\": \"A01\", \"typeEstimated\": {\"category\": \"SUITE\", \"beds\": 1, \"bedType\": \"KING\"}, \"description\": {\"text\": \"RESTRICTED CXL\\n2 ROOM SUITE-1 KING BED-NONSMOKING\\nWIFI AVL-SLEEPER SOFA-MICROWAVE-REFRIGERATOR\\nCOMP COOKED TO ORDER BRKFST-EVENING RECEPTION\", \"lang\": \"EN\"}}, \"guests\": {\"adults\": 1}, \"price\": {\"currency\": \"USD\", \"base\": \"720.38\", \"total\": \"816.77\", \"taxes\": [{\"code\": \"TOTAL_TAX\", \"pricingFrequency\": \"PER_STAY\", \"pricingMode\": \"PER_PRODUCT\", \"amount\": \"96.39\", \"currency\": \"USD\", \"included\": false}], \"variations\": {\"average\": {\"base\": \"240.13\"}, \"changes\": [{\"startDate\": \"2023-11-22\", \"endDate\": \"2023-11-23\", \"base\": \"193.64\"}, {\"startDate\": \"2023-11-23\", \"endDate\": \"2023-11-24\", \"base\": \"229.38\"}, {\"startDate\": \"2023-11-24\", \"endDate\": \"2023-11-25\", \"base\": \"297.36\"}]}}, \"policies\": {\"cancellations\": [{\"description\": {\"text\": \"Plus Taxes and fees where appropriate.\"}, \"amount\": \"193.64\", \"deadline\": \"2023-11-17T23:59:00-08:00\"}], \"guarantee\": {\"acceptedPayments\": {\"creditCards\": [\"VI\", \"CA\", \"AX\", \"DC\", \"DS\", \"JC\", \"CU\"], \"methods\": [\"CREDIT_CARD\"]}}, \"paymentType\": \"guarantee\"}, \"self\": \"https://test.api.amadeus.com/v3/shopping/hotel-offers/8BG2JFOIAI\"}], \"self\": \"https://test.api.amadeus.com/v3/shopping/hotel-offers?hotelIds=ESLASHF2&checkInDate=2023-11-22&checkOutDate=2023-11-25\"}, {\"type\": \"hotel-offers\", \"hotel\": {\"type\": \"hotel\", \"hotelId\": \"FNLASFIF\", \"chainCode\": \"FN\", \"dupeId\": \"700066638\", \"name\": \"Fairfield Inn by Marriott Las Vegas Convention Center\", \"cityCode\": \"LAS\", \"latitude\": 36.11945, \"longitude\": -115.15498}, \"available\": true, \"offers\": [{\"id\": \"3O6NKPXEEM\", \"checkInDate\": \"2023-11-22\", \"checkOutDate\": \"2023-11-25\", \"rateCode\": \"RAC\", \"room\": {\"type\": \"SM3\", \"typeEstimated\": {\"beds\": 2, \"bedType\": \"QUEEN\"}, \"description\": {\"text\": \"Prepay Non-refundable, changes up to 7 days prior to stay\\n2 Queen(s), Mini fridge, Microwave,\\n265sqft/24sqm, Living/sitting area, Wireless\", \"lang\": \"EN\"}}, \"guests\": {\"adults\": 1}, \"price\": {\"currency\": \"USD\", \"base\": \"439.45\", \"total\": \"498.25\", \"variations\": {\"average\": {\"base\": \"146.48\"}, \"changes\": [{\"startDate\": \"2023-11-22\", \"endDate\": \"2023-11-23\", \"base\": \"109.65\"}, {\"startDate\": \"2023-11-23\", \"endDate\": \"2023-11-24\", \"base\": \"143.65\"}, {\"startDate\": \"2023-11-24\", \"endDate\": \"2023-11-25\", \"base\": \"186.15\"}]}}, \"policies\": {\"cancellations\": [{\"description\": {\"text\": \"NON-REFUNDABLE RATE\"}, \"type\": \"FULL_STAY\"}], \"paymentType\": \"deposit\"}, \"self\": \"https://test.api.amadeus.com/v3/shopping/hotel-offers/3O6NKPXEEM\"}], \"self\": \"https://test.api.amadeus.com/v3/shopping/hotel-offers?hotelIds=FNLASFIF&checkInDate=2023-11-22&checkOutDate=2023-11-25\"}, {\"type\": \"hotel-offers\", \"hotel\": {\"type\": \"hotel\", \"hotelId\": \"FNLASFSF\", \"chainCode\": \"FN\", \"dupeId\": \"700105722\", \"name\": \"Fairfield Inn and Suites by Marriott Las Vegas South\", \"cityCode\": \"LAS\", \"latitude\": 36.0846, \"longitude\": -115.18316}, \"available\": true, \"offers\": [{\"id\": \"VB9VL0YRNS\", \"checkInDate\": \"2023-11-22\", \"checkOutDate\": \"2023-11-25\", \"rateCode\": \"RAC\", \"room\": {\"type\": \"AP7\", \"typeEstimated\": {\"beds\": 1, \"bedType\": \"KING\"}, \"description\": {\"text\": \"Prepay Non-refundable Non-changeable, prepay in full\\n1 King, Mini fridge, Microwave, 380sqft/34sqm,\\nWireless internet, complimentary, Coffee/tea\", \"lang\": \"EN\"}}, \"guests\": {\"adults\": 1}, \"price\": {\"currency\": \"USD\", \"base\": \"392.70\", \"total\": \"445.24\", \"variations\": {\"average\": {\"base\": \"130.90\"}, \"changes\": [{\"startDate\": \"2023-11-22\", \"endDate\": \"2023-11-24\", \"base\": \"109.65\"}, {\"startDate\": \"2023-11-24\", \"endDate\": \"2023-11-25\", \"base\": \"173.40\"}]}}, \"policies\": {\"cancellations\": [{\"description\": {\"text\": \"NON-REFUNDABLE RATE\"}, \"type\": \"FULL_STAY\"}], \"paymentType\": \"deposit\"}, \"self\": \"https://test.api.amadeus.com/v3/shopping/hotel-offers/VB9VL0YRNS\"}], \"self\": \"https://test.api.amadeus.com/v3/shopping/hotel-offers?hotelIds=FNLASFSF&checkInDate=2023-11-22&checkOutDate=2023-11-25\"}, {\"type\": \"hotel-offers\", \"hotel\": {\"type\": \"hotel\", \"hotelId\": \"GILAS332\", \"chainCode\": \"GI\", \"dupeId\": \"700066975\", \"name\": \"HILTON GARDEN INN LAS VEGAS\", \"cityCode\": \"LAS\", \"latitude\": 36.04554, \"longitude\": -115.17227}, \"available\": true, \"offers\": [{\"id\": \"2NAL0SUYI2\", \"checkInDate\": \"2023-11-22\", \"checkOutDate\": \"2023-11-25\", \"rateCode\": \"RAC\", \"commission\": {\"percentage\": \"10\"}, \"room\": {\"type\": \"A03\", \"typeEstimated\": {\"category\": \"STANDARD_ROOM\", \"beds\": 2, \"bedType\": \"QUEEN\"}, \"description\": {\"text\": \"RESTRICTED CXL\\n2 QUEEN BEDS\\nCOMP WIFI- HDTV WITH HIDEF CHANNELS\\nREFRIGERATOR-MICROWAVE- POD COFFEE BRWR\", \"lang\": \"EN\"}}, \"guests\": {\"adults\": 1}, \"price\": {\"currency\": \"USD\", \"base\": \"657.45\", \"total\": \"742.92\", \"taxes\": [{\"code\": \"TOTAL_TAX\", \"pricingFrequency\": \"PER_STAY\", \"pricingMode\": \"PER_PRODUCT\", \"amount\": \"85.47\", \"currency\": \"USD\", \"included\": false}], \"variations\": {\"average\": {\"base\": \"219.15\"}, \"changes\": [{\"startDate\": \"2023-11-22\", \"endDate\": \"2023-11-23\", \"base\": \"172.96\"}, {\"startDate\": \"2023-11-23\", \"endDate\": \"2023-11-24\", \"base\": \"243.46\"}, {\"startDate\": \"2023-11-24\", \"endDate\": \"2023-11-25\", \"base\": \"241.03\"}]}}, \"policies\": {\"cancellations\": [{\"description\": {\"text\": \"Plus Taxes and fees where appropriate.\"}, \"amount\": \"172.96\", \"deadline\": \"2023-11-17T23:59:00-08:00\"}], \"guarantee\": {\"acceptedPayments\": {\"creditCards\": [\"VI\", \"CA\", \"AX\", \"DC\", \"DS\", \"JC\", \"CU\"], \"methods\": [\"CREDIT_CARD\"]}}, \"paymentType\": \"guarantee\"}, \"self\": \"https://test.api.amadeus.com/v3/shopping/hotel-offers/2NAL0SUYI2\"}], \"self\": \"https://test.api.amadeus.com/v3/shopping/hotel-offers?hotelIds=GILAS332&checkInDate=2023-11-22&checkOutDate=2023-11-25\"}, {\"type\": \"hotel-offers\", \"hotel\": {\"type\": \"hotel\", \"hotelId\": \"GILAS718\", \"chainCode\": \"GI\", \"dupeId\": \"700070958\", \"name\": \"HILTON GARDEN INN HENDERSON\", \"cityCode\": \"LAS\", \"latitude\": 36.0563, \"longitude\": -115.04381}, \"available\": true, \"offers\": [{\"id\": \"LIA4ZSNRXT\", \"checkInDate\": \"2023-11-22\", \"checkOutDate\": \"2023-11-25\", \"rateCode\": \"RAC\", \"commission\": {\"percentage\": \"10\"}, \"room\": {\"type\": \"A03\", \"typeEstimated\": {\"category\": \"STANDARD_ROOM\", \"beds\": 2, \"bedType\": \"QUEEN\"}, \"description\": {\"text\": \"RESTRICTED CXL\\n2 QUEEN BEDS\\nCOMP WIFI-42IN TV W/HI DEF CHANNELS-WORK DESK\\nREFRIGERATOR-MICROWAVE-POD COFFEE BREWER\", \"lang\": \"EN\"}}, \"guests\": {\"adults\": 1}, \"price\": {\"currency\": \"USD\", \"base\": \"547.08\", \"total\": \"618.20\", \"taxes\": [{\"code\": \"TOTAL_TAX\", \"pricingFrequency\": \"PER_STAY\", \"pricingMode\": \"PER_PRODUCT\", \"amount\": \"71.12\", \"currency\": \"USD\", \"included\": false}], \"variations\": {\"average\": {\"base\": \"182.36\"}, \"changes\": [{\"startDate\": \"2023-11-22\", \"endDate\": \"2023-11-23\", \"base\": \"153.22\"}, {\"startDate\": \"2023-11-23\", \"endDate\": \"2023-11-24\", \"base\": \"164.50\"}, {\"startDate\": \"2023-11-24\", \"endDate\": \"2023-11-25\", \"base\": \"229.36\"}]}}, \"policies\": {\"cancellations\": [{\"description\": {\"text\": \"Plus Taxes and fees where appropriate.\"}, \"amount\": \"153.22\", \"deadline\": \"2023-11-17T23:59:00-08:00\"}], \"guarantee\": {\"acceptedPayments\": {\"creditCards\": [\"VI\", \"CA\", \"AX\", \"DC\", \"DS\", \"JC\", \"CU\"], \"methods\": [\"CREDIT_CARD\"]}}, \"paymentType\": \"guarantee\"}, \"self\": \"https://test.api.amadeus.com/v3/shopping/hotel-offers/LIA4ZSNRXT\"}], \"self\": \"https://test.api.amadeus.com/v3/shopping/hotel-offers?hotelIds=GILAS718&checkInDate=2023-11-22&checkOutDate=2023-11-25\"}, {\"type\": \"hotel-offers\", \"hotel\": {\"type\": \"hotel\", \"hotelId\": \"HGLAS104\", \"chainCode\": \"HG\", \"dupeId\": \"700050312\", \"name\": \"HOMEWOOD STES HENDERSON SOUTH\", \"cityCode\": \"LAS\", \"latitude\": 36.00184, \"longitude\": -115.1059}, \"available\": true, \"offers\": [{\"id\": \"THUAKZZ7I0\", \"checkInDate\": \"2023-11-22\", \"checkOutDate\": \"2023-11-25\", \"rateCode\": \"RAC\", \"commission\": {\"percentage\": \"10\"}, \"boardType\": \"BREAKFAST\", \"room\": {\"type\": \"A06\", \"typeEstimated\": {\"category\": \"SUITE\", \"beds\": 1, \"bedType\": \"KING\"}, \"description\": {\"text\": \"RESTRICTED CXL\\n1 KING BED STUDIO SUITE NONSMOKING\\nCOMBINED BDRM LIVING AREA SOFABD FULL KITCHEN\\nFREE WIFI-DAILY HOT BREAKFAST-24/7 SUITE SHOP\", \"lang\": \"EN\"}}, \"guests\": {\"adults\": 1}, \"price\": {\"currency\": \"USD\", \"base\": \"576.40\", \"total\": \"651.33\", \"taxes\": [{\"code\": \"TOTAL_TAX\", \"pricingFrequency\": \"PER_STAY\", \"pricingMode\": \"PER_PRODUCT\", \"amount\": \"74.93\", \"currency\": \"USD\", \"included\": false}], \"variations\": {\"average\": {\"base\": \"192.14\"}, \"changes\": [{\"startDate\": \"2023-11-22\", \"endDate\": \"2023-11-23\", \"base\": \"189.77\"}, {\"startDate\": \"2023-11-23\", \"endDate\": \"2023-11-24\", \"base\": \"194.86\"}, {\"startDate\": \"2023-11-24\", \"endDate\": \"2023-11-25\", \"base\": \"191.78\"}]}}, \"policies\": {\"cancellations\": [{\"description\": {\"text\": \"Plus Taxes and fees where appropriate.\"}, \"amount\": \"189.77\", \"deadline\": \"2023-11-17T23:59:00-08:00\"}], \"guarantee\": {\"acceptedPayments\": {\"creditCards\": [\"VI\", \"CA\", \"AX\", \"DC\", \"DS\", \"JC\", \"CU\"], \"methods\": [\"CREDIT_CARD\"]}}, \"paymentType\": \"guarantee\"}, \"self\": \"https://test.api.amadeus.com/v3/shopping/hotel-offers/THUAKZZ7I0\"}], \"self\": \"https://test.api.amadeus.com/v3/shopping/hotel-offers?hotelIds=HGLAS104&checkInDate=2023-11-22&checkOutDate=2023-11-25\"}, {\"type\": \"hotel-offers\", \"hotel\": {\"type\": \"hotel\", \"hotelId\": \"HGLAS203\", \"chainCode\": \"HG\", \"dupeId\": \"700107897\", \"name\": \"HOMEWOOD SUITES LAS VEGAS ARPT\", \"cityCode\": \"LAS\", \"latitude\": 36.0642, \"longitude\": -115.16098}, \"available\": true, \"offers\": [{\"id\": \"441N11OBZ3\", \"checkInDate\": \"2023-11-22\", \"checkOutDate\": \"2023-11-25\", \"rateCode\": \"RAC\", \"commission\": {\"percentage\": \"10\"}, \"boardType\": \"BREAKFAST\", \"room\": {\"type\": \"A03\", \"typeEstimated\": {\"category\": \"SUITE\", \"beds\": 1, \"bedType\": \"KING\"}, \"description\": {\"text\": \"RESTRICTED CXL\\n1 KING BED STUDIO SUITE NONSMOKING\\nCOMBINED BDRM LIVING AREA SOFABD FULL KITCHEN\\nFREE WIFI-DAILY HOT BREAKFAST-24/7 SUITE SHOP\", \"lang\": \"EN\"}}, \"guests\": {\"adults\": 1}, \"price\": {\"currency\": \"USD\", \"base\": \"477.22\", \"total\": \"539.26\", \"taxes\": [{\"code\": \"TOTAL_TAX\", \"pricingFrequency\": \"PER_STAY\", \"pricingMode\": \"PER_PRODUCT\", \"amount\": \"62.04\", \"currency\": \"USD\", \"included\": false}], \"variations\": {\"average\": {\"base\": \"159.07\"}, \"changes\": [{\"startDate\": \"2023-11-22\", \"endDate\": \"2023-11-23\", \"base\": \"146.02\"}, {\"startDate\": \"2023-11-23\", \"endDate\": \"2023-11-24\", \"base\": \"145.98\"}, {\"startDate\": \"2023-11-24\", \"endDate\": \"2023-11-25\", \"base\": \"185.22\"}]}}, \"policies\": {\"cancellations\": [{\"description\": {\"text\": \"Plus Taxes and fees where appropriate.\"}, \"amount\": \"146.02\", \"deadline\": \"2023-11-17T23:59:00-08:00\"}], \"guarantee\": {\"acceptedPayments\": {\"creditCards\": [\"VI\", \"CA\", \"AX\", \"DC\", \"DS\", \"JC\", \"CU\"], \"methods\": [\"CREDIT_CARD\"]}}, \"paymentType\": \"guarantee\"}, \"self\": \"https://test.api.amadeus.com/v3/shopping/hotel-offers/441N11OBZ3\"}], \"self\": \"https://test.api.amadeus.com/v3/shopping/hotel-offers?hotelIds=HGLAS203&checkInDate=2023-11-22&checkOutDate=2023-11-25\"}, {\"type\": \"hotel-offers\", \"hotel\": {\"type\": \"hotel\", \"hotelId\": \"HILAS23D\", \"chainCode\": \"HI\", \"dupeId\": \"700067986\", \"name\": \"HOLIDAY INN EXPRESS SOUTH\", \"cityCode\": \"LAS\", \"latitude\": 36.08503, \"longitude\": -115.18542}, \"available\": true, \"offers\": [{\"id\": \"6UI6DPVV7T\", \"checkInDate\": \"2023-11-22\", \"checkOutDate\": \"2023-11-25\", \"rateCode\": \"Y5I\", \"rateFamilyEstimated\": {\"code\": \"PRO\", \"type\": \"P\"}, \"boardType\": \"BREAKFAST\", \"room\": {\"type\": \"*RH\", \"typeEstimated\": {\"category\": \"STANDARD_ROOM\"}, \"description\": {\"text\": \"STAY LONGER SAVE\\nStandard Room When you arrive at the hotel we\\nwill do our best to meet your room type\", \"lang\": \"EN\"}}, \"guests\": {\"adults\": 1}, \"price\": {\"currency\": \"USD\", \"base\": \"489.60\", \"total\": \"555.11\", \"taxes\": [{\"code\": \"MISCELLANEOUS\", \"pricingFrequency\": \"PER_NIGHT\", \"pricingMode\": \"PER_PRODUCT\", \"percentage\": \"13.38\", \"included\": false}], \"variations\": {\"average\": {\"base\": \"163.20\"}, \"changes\": [{\"startDate\": \"2023-11-22\", \"endDate\": \"2023-11-24\", \"base\": \"149.40\"}, {\"startDate\": \"2023-11-24\", \"endDate\": \"2023-11-25\", \"base\": \"190.80\"}]}}, \"policies\": {\"deposit\": {\"acceptedPayments\": {\"creditCards\": [\"AX\", \"VI\", \"CA\", \"DC\", \"CB\", \"JC\", \"DS\"], \"methods\": [\"CREDIT_CARD\"]}}, \"paymentType\": \"deposit\"}, \"self\": \"https://test.api.amadeus.com/v3/shopping/hotel-offers/6UI6DPVV7T\"}], \"self\": \"https://test.api.amadeus.com/v3/shopping/hotel-offers?hotelIds=HILAS23D&checkInDate=2023-11-22&checkOutDate=2023-11-25\"}, {\"type\": \"hotel-offers\", \"hotel\": {\"type\": \"hotel\", \"hotelId\": \"HILAS2BD\", \"chainCode\": \"HI\", \"dupeId\": \"700107490\", \"name\": \"HOLIDAY INN EXPRESS NELLIS\", \"cityCode\": \"LAS\", \"latitude\": 36.23337, \"longitude\": -115.06312}, \"available\": true, \"offers\": [{\"id\": \"GGJN06Q3E8\", \"checkInDate\": \"2023-11-22\", \"checkOutDate\": \"2023-11-25\", \"rateCode\": \"Y5I\", \"rateFamilyEstimated\": {\"code\": \"PRO\", \"type\": \"P\"}, \"boardType\": \"BREAKFAST\", \"room\": {\"type\": \"*RH\", \"typeEstimated\": {\"category\": \"STANDARD_ROOM\"}, \"description\": {\"text\": \"STAY LONGER SAVE\\nStandard Room When you arrive at the hotel we\\nwill do our best to meet your room type\", \"lang\": \"EN\"}}, \"guests\": {\"adults\": 1}, \"price\": {\"currency\": \"USD\", \"base\": \"481.53\", \"total\": \"544.13\", \"taxes\": [{\"code\": \"MISCELLANEOUS\", \"pricingFrequency\": \"PER_NIGHT\", \"pricingMode\": \"PER_PRODUCT\", \"percentage\": \"13.00\", \"included\": false}], \"variations\": {\"average\": {\"base\": \"160.51\"}, \"changes\": [{\"startDate\": \"2023-11-22\", \"endDate\": \"2023-11-23\", \"base\": \"135.43\"}, {\"startDate\": \"2023-11-23\", \"endDate\": \"2023-11-24\", \"base\": \"158.94\"}, {\"startDate\": \"2023-11-24\", \"endDate\": \"2023-11-25\", \"base\": \"187.16\"}]}}, \"policies\": {\"deposit\": {\"acceptedPayments\": {\"creditCards\": [\"AX\", \"VI\", \"CA\", \"DC\", \"CB\", \"JC\", \"DS\"], \"methods\": [\"CREDIT_CARD\"]}}, \"paymentType\": \"deposit\"}, \"self\": \"https://test.api.amadeus.com/v3/shopping/hotel-offers/GGJN06Q3E8\"}], \"self\": \"https://test.api.amadeus.com/v3/shopping/hotel-offers?hotelIds=HILAS2BD&checkInDate=2023-11-22&checkOutDate=2023-11-25\"}, {\"type\": \"hotel-offers\", \"hotel\": {\"type\": \"hotel\", \"hotelId\": \"HILASC69\", \"chainCode\": \"HI\", \"dupeId\": \"700137095\", \"name\": \"Holiday Inn Club Vac Desert C\", \"cityCode\": \"LAS\", \"latitude\": 36.1181, \"longitude\": -115.16353}, \"available\": true, \"offers\": [{\"id\": \"UKZAO9LHBE\", \"checkInDate\": \"2023-11-22\", \"checkOutDate\": \"2023-11-25\", \"rateCode\": \"Y5I\", \"boardType\": \"ROOM_ONLY\", \"room\": {\"type\": \"*1K\", \"typeEstimated\": {\"category\": \"VILLA\", \"beds\": 1, \"bedType\": \"KING\"}, \"description\": {\"text\": \"STAY LONGER SAVE Special Savings when you stay\\nlonger and reserve in advance. Reservation\\n1 KING BED STANDARD NONSMOKING Spacious\\n1-bedroom 1-bath 515 sq. ft. villa. Sleeps up\", \"lang\": \"EN\"}}, \"guests\": {\"adults\": 1}, \"price\": {\"currency\": \"USD\", \"base\": \"713.70\", \"total\": \"896.19\", \"taxes\": [{\"code\": \"MISCELLANEOUS\", \"pricingFrequency\": \"PER_NIGHT\", \"pricingMode\": \"PER_PRODUCT\", \"percentage\": \"13.38\", \"included\": false}, {\"code\": \"SERVICE_CHARGE\", \"pricingFrequency\": \"PER_NIGHT\", \"pricingMode\": \"PER_PRODUCT\", \"amount\": \"29.00\", \"currency\": \"USD\", \"included\": false}], \"variations\": {\"average\": {\"base\": \"237.90\"}, \"changes\": [{\"startDate\": \"2023-11-22\", \"endDate\": \"2023-11-24\", \"base\": \"250.85\"}, {\"startDate\": \"2023-11-24\", \"endDate\": \"2023-11-25\", \"base\": \"212.00\"}]}}, \"policies\": {\"deposit\": {\"acceptedPayments\": {\"creditCards\": [\"AX\", \"VI\", \"CA\", \"DC\", \"CB\", \"JC\", \"DS\"], \"methods\": [\"CREDIT_CARD\"]}}, \"paymentType\": \"deposit\"}, \"self\": \"https://test.api.amadeus.com/v3/shopping/hotel-offers/UKZAO9LHBE\"}], \"self\": \"https://test.api.amadeus.com/v3/shopping/hotel-offers?hotelIds=HILASC69&checkInDate=2023-11-22&checkOutDate=2023-11-25\"}, {\"type\": \"hotel-offers\", \"hotel\": {\"type\": \"hotel\", \"hotelId\": \"HRLAS734\", \"chainCode\": \"HR\", \"dupeId\": \"700007405\", \"name\": \"FLAMINGO LAS VEGAS\", \"cityCode\": \"LAS\", \"latitude\": 36.11594, \"longitude\": -115.16986}, \"available\": true, \"offers\": [{\"id\": \"0XTXLWUXK2\", \"checkInDate\": \"2023-11-22\", \"checkOutDate\": \"2023-11-25\", \"rateCode\": \"AAA\", \"rateFamilyEstimated\": {\"code\": \"AAA\", \"type\": \"C\"}, \"category\": \"PRO\", \"commission\": {\"percentage\": \"10.0\"}, \"room\": {\"type\": \"C1K\", \"typeEstimated\": {\"category\": \"DELUXE_ROOM\", \"beds\": 1, \"bedType\": \"KING\"}, \"description\": {\"text\": \"AAA -CAA MEMBER RATE \\nGo Deluxe 1 King or 2 Queens pillowtop mattress Premium Sound \\nsystem with IPod station TV built into the vanity mirror in \\nbathroom Glass walled shower with body jets in bathroom \", \"lang\": \"EN\"}}, \"guests\": {\"adults\": 1}, \"price\": {\"currency\": \"USD\", \"total\": \"3088.17\", \"variations\": {\"average\": {\"base\": \"899.10\"}, \"changes\": [{\"startDate\": \"2023-11-22\", \"endDate\": \"2023-11-25\", \"base\": \"899.10\"}]}}, \"policies\": {\"cancellations\": [{\"numberOfNights\": 1, \"deadline\": \"2023-11-19T00:00:00-08:00\"}], \"deposit\": {\"deadline\": \"2023-11-13T00:00:00\", \"acceptedPayments\": {\"creditCards\": [\"AX\", \"DC\", \"DS\", \"JC\", \"CA\", \"VI\"], \"methods\": [\"CREDIT_CARD\"]}}, \"paymentType\": \"deposit\"}, \"self\": \"https://test.api.amadeus.com/v3/shopping/hotel-offers/0XTXLWUXK2\"}], \"self\": \"https://test.api.amadeus.com/v3/shopping/hotel-offers?hotelIds=HRLAS734&checkInDate=2023-11-22&checkOutDate=2023-11-25\"}, {\"type\": \"hotel-offers\", \"hotel\": {\"type\": \"hotel\", \"hotelId\": \"HRLASHLV\", \"chainCode\": \"HR\", \"dupeId\": \"700043008\", \"name\": \"HARRAHS LAS VEGAS\", \"cityCode\": \"LAS\", \"latitude\": 36.1195, \"longitude\": -115.16968}, \"available\": true, \"offers\": [{\"id\": \"5G71HGTDML\", \"checkInDate\": \"2023-11-22\", \"checkOutDate\": \"2023-11-25\", \"rateCode\": \"AAA\", \"rateFamilyEstimated\": {\"code\": \"AAA\", \"type\": \"C\"}, \"category\": \"PRO\", \"commission\": {\"percentage\": \"10.0\"}, \"room\": {\"type\": \"A1K\", \"typeEstimated\": {\"category\": \"STANDARD_ROOM\", \"beds\": 1, \"bedType\": \"KING\"}, \"description\": {\"text\": \"AAA -CAA RATE \\nClassic room1 king or 2 queens. 340 sq ft Marble shower -tub \\nwith granite countertops Minibar available in most rooms Smoking\\nand non smoking rooms available \", \"lang\": \"EN\"}}, \"guests\": {\"adults\": 1}, \"price\": {\"currency\": \"USD\", \"total\": \"3081.45\", \"variations\": {\"average\": {\"base\": \"899.10\"}, \"changes\": [{\"startDate\": \"2023-11-22\", \"endDate\": \"2023-11-25\", \"base\": \"899.10\"}]}}, \"policies\": {\"cancellations\": [{\"numberOfNights\": 1, \"deadline\": \"2023-11-19T00:00:00-08:00\"}], \"deposit\": {\"deadline\": \"2023-11-13T00:00:00\", \"acceptedPayments\": {\"creditCards\": [\"AX\", \"DC\", \"DS\", \"JC\", \"CA\", \"VI\"], \"methods\": [\"CREDIT_CARD\"]}}, \"paymentType\": \"deposit\"}, \"self\": \"https://test.api.amadeus.com/v3/shopping/hotel-offers/5G71HGTDML\"}], \"self\": \"https://test.api.amadeus.com/v3/shopping/hotel-offers?hotelIds=HRLASHLV&checkInDate=2023-11-22&checkOutDate=2023-11-25\"}]\n",
            "submit the tool outputs to the thread and run\n"
          ]
        }
      ]
    },
    {
      "cell_type": "code",
      "source": [
        "reply = client.beta.threads.messages.list(\n",
        "  thread_id=thread.id\n",
        ")\n",
        "messages = reply.data\n",
        "\n",
        "assistant_reply = \"\"\n",
        "for message in messages:\n",
        "    if message.role == \"assistant\":  # Check if the message is from the assistant\n",
        "        for content in message.content:\n",
        "            if content.type == \"text\":\n",
        "                assistant_reply = content.text.value\n",
        "                break  # Assuming only one text content per assistant's message\n",
        "        if assistant_reply:\n",
        "            break  # Break the loop if the assistant's reply is found\n",
        "\n",
        "print(\"Assistant's Reply:\", assistant_reply)\n"
      ],
      "metadata": {
        "colab": {
          "base_uri": "https://localhost:8080/"
        },
        "id": "txx3KqlsmXVu",
        "outputId": "82f0b90e-efc7-4ce9-9b6a-71ce3634a0ff"
      },
      "id": "txx3KqlsmXVu",
      "execution_count": null,
      "outputs": [
        {
          "output_type": "stream",
          "name": "stdout",
          "text": [
            "Assistant's Reply: I found some hotel options for you in Las Vegas from 11/22 to 11/25:\n",
            "\n",
            "1. Best Western McCarran Inn\n",
            "   - Room Type: Standard Room with 1 King Bed\n",
            "   - Description: Flexible Rate, Best Least Restrictive Rate\n",
            "   - Price: $352.50 (including taxes)\n",
            "   - Cancellation Policy: Free cancellation until 11/21 at 4:00 PM\n",
            "   - [More details and booking](https://test.api.amadeus.com/v3/shopping/hotel-offers/L4Y9ZEK2FJ)\n",
            "\n",
            "2. Best Western Plus Las Vegas West\n",
            "   - Room Type: Standard Room with 1 King Bed\n",
            "   - Description: Multi Night Stay Promotion\n",
            "   - Price: $366.91 (including taxes)\n",
            "   - Cancellation Policy: Non-refundable rate\n",
            "   - [More details and booking](https://test.api.amadeus.com/v3/shopping/hotel-offers/B139U5NDKJ)\n",
            "\n",
            "3. Best Western Plus Casino Royale–Center Strip\n",
            "   - Room Type: Standard Room with 1 King Bed\n",
            "   - Description: Advance Purchase\n",
            "   - Price: $261.86 (including taxes)\n",
            "   - Cancellation Policy: Non-refundable rate\n",
            "   - [More details and booking](https://test.api.amadeus.com/v3/shopping/hotel-offers/RRNXU2R6LB)\n",
            "\n",
            "4. Best Western Plus Las Vegas South Henderson\n",
            "   - Room Type: Standard Room with 2 Queen Beds\n",
            "   - Description: Advance Purchase\n",
            "   - Price: $537.91 (including taxes)\n",
            "   - Cancellation Policy: Non-refundable rate\n",
            "   - [More details and booking](https://test.api.amadeus.com/v3/shopping/hotel-offers/9D0F1NY4KS)\n",
            "\n",
            "5. Courtyard by Marriott Las Vegas Convention Center\n",
            "   - Room Type: Standard Room\n",
            "   - Description: Prepay Non-refundable, changes up to 4 days prior to stay\n",
            "   - Price: $558.96 (including taxes)\n",
            "   - [More details and booking](https://test.api.amadeus.com/v3/shopping/hotel-offers/6VQSWWS0VQ)\n",
            "\n",
            "Please let me know if you need any further assistance!\n"
          ]
        }
      ]
    },
    {
      "cell_type": "code",
      "execution_count": null,
      "id": "fad839a6-83e9-46a2-9d39-d7be8cbcc6f8",
      "metadata": {
        "height": 30,
        "id": "fad839a6-83e9-46a2-9d39-d7be8cbcc6f8"
      },
      "outputs": [],
      "source": []
    },
    {
      "cell_type": "code",
      "execution_count": null,
      "id": "7f71b4b8-3a1c-4c19-9d65-d50340207dca",
      "metadata": {
        "height": 30,
        "id": "7f71b4b8-3a1c-4c19-9d65-d50340207dca"
      },
      "outputs": [],
      "source": []
    },
    {
      "cell_type": "code",
      "execution_count": null,
      "id": "ca98ceb2-0feb-49c6-9889-70e9b52300e1",
      "metadata": {
        "height": 30,
        "id": "ca98ceb2-0feb-49c6-9889-70e9b52300e1"
      },
      "outputs": [],
      "source": []
    },
    {
      "cell_type": "code",
      "execution_count": null,
      "id": "ec827289-00c7-444e-aeb2-1e7404fbc15c",
      "metadata": {
        "height": 30,
        "id": "ec827289-00c7-444e-aeb2-1e7404fbc15c"
      },
      "outputs": [],
      "source": []
    },
    {
      "cell_type": "code",
      "execution_count": null,
      "id": "1fcd3cb6-a782-427a-bd34-46ce47e5f707",
      "metadata": {
        "height": 30,
        "id": "1fcd3cb6-a782-427a-bd34-46ce47e5f707"
      },
      "outputs": [],
      "source": []
    },
    {
      "cell_type": "code",
      "execution_count": null,
      "id": "7eef7189-688b-4d79-b11b-67b147a00352",
      "metadata": {
        "height": 30,
        "id": "7eef7189-688b-4d79-b11b-67b147a00352"
      },
      "outputs": [],
      "source": []
    },
    {
      "cell_type": "code",
      "execution_count": null,
      "id": "a6733b4e-a958-421c-a3c8-635e91428f34",
      "metadata": {
        "height": 30,
        "id": "a6733b4e-a958-421c-a3c8-635e91428f34"
      },
      "outputs": [],
      "source": []
    },
    {
      "cell_type": "code",
      "execution_count": null,
      "id": "93d4ecd5-14c1-492e-84ec-b4f6bb508e1c",
      "metadata": {
        "height": 30,
        "id": "93d4ecd5-14c1-492e-84ec-b4f6bb508e1c"
      },
      "outputs": [],
      "source": []
    },
    {
      "cell_type": "code",
      "execution_count": null,
      "id": "8e262ae6-092b-4f9e-a1cc-cc1704ecfe76",
      "metadata": {
        "height": 30,
        "id": "8e262ae6-092b-4f9e-a1cc-cc1704ecfe76"
      },
      "outputs": [],
      "source": []
    },
    {
      "cell_type": "code",
      "execution_count": null,
      "id": "a5bc5cd3-84f4-4d05-b941-575cafd3e14e",
      "metadata": {
        "height": 30,
        "id": "a5bc5cd3-84f4-4d05-b941-575cafd3e14e"
      },
      "outputs": [],
      "source": []
    },
    {
      "cell_type": "code",
      "execution_count": null,
      "id": "e0ca8690-50b3-42dc-b95c-364bbcd14581",
      "metadata": {
        "height": 30,
        "id": "e0ca8690-50b3-42dc-b95c-364bbcd14581"
      },
      "outputs": [],
      "source": []
    },
    {
      "cell_type": "code",
      "execution_count": null,
      "id": "48e64656-d3ee-47a5-96e0-766652f28138",
      "metadata": {
        "height": 30,
        "id": "48e64656-d3ee-47a5-96e0-766652f28138"
      },
      "outputs": [],
      "source": []
    },
    {
      "cell_type": "code",
      "execution_count": null,
      "id": "a27659fe-3720-4e13-83d0-fe2d52b03075",
      "metadata": {
        "height": 30,
        "id": "a27659fe-3720-4e13-83d0-fe2d52b03075"
      },
      "outputs": [],
      "source": []
    },
    {
      "cell_type": "code",
      "execution_count": null,
      "id": "b5c16168-2988-4540-a921-b78e299ab5d2",
      "metadata": {
        "height": 30,
        "id": "b5c16168-2988-4540-a921-b78e299ab5d2"
      },
      "outputs": [],
      "source": []
    },
    {
      "cell_type": "code",
      "execution_count": null,
      "id": "53a1d9ed-fb4e-4f3f-a8df-4a6d67c3ec1a",
      "metadata": {
        "height": 30,
        "id": "53a1d9ed-fb4e-4f3f-a8df-4a6d67c3ec1a"
      },
      "outputs": [],
      "source": []
    },
    {
      "cell_type": "code",
      "execution_count": null,
      "id": "94ed11cb-5a90-49a5-aecb-48081d146af6",
      "metadata": {
        "height": 30,
        "id": "94ed11cb-5a90-49a5-aecb-48081d146af6"
      },
      "outputs": [],
      "source": []
    },
    {
      "cell_type": "code",
      "execution_count": null,
      "id": "206f0256-9cb4-4f3b-8614-0b69a4eeaac9",
      "metadata": {
        "height": 30,
        "id": "206f0256-9cb4-4f3b-8614-0b69a4eeaac9"
      },
      "outputs": [],
      "source": []
    },
    {
      "cell_type": "code",
      "execution_count": null,
      "id": "e442de8e-ad55-4730-a43b-0c2bc2066b31",
      "metadata": {
        "height": 30,
        "id": "e442de8e-ad55-4730-a43b-0c2bc2066b31"
      },
      "outputs": [],
      "source": []
    },
    {
      "cell_type": "code",
      "execution_count": null,
      "id": "5854155b-57f8-49f2-b595-6b6163d9db2a",
      "metadata": {
        "height": 30,
        "id": "5854155b-57f8-49f2-b595-6b6163d9db2a"
      },
      "outputs": [],
      "source": []
    },
    {
      "cell_type": "code",
      "execution_count": null,
      "id": "e8637d7d-d6cc-4c55-b3cc-8dc51a35efb5",
      "metadata": {
        "height": 30,
        "id": "e8637d7d-d6cc-4c55-b3cc-8dc51a35efb5"
      },
      "outputs": [],
      "source": []
    },
    {
      "cell_type": "code",
      "execution_count": null,
      "id": "9a450da3-ef87-44f7-872c-39a1a714a015",
      "metadata": {
        "height": 30,
        "id": "9a450da3-ef87-44f7-872c-39a1a714a015"
      },
      "outputs": [],
      "source": []
    },
    {
      "cell_type": "code",
      "execution_count": null,
      "id": "abd24043-91e6-4838-8ce0-7f02802cf62a",
      "metadata": {
        "height": 30,
        "id": "abd24043-91e6-4838-8ce0-7f02802cf62a"
      },
      "outputs": [],
      "source": []
    },
    {
      "cell_type": "code",
      "execution_count": null,
      "id": "63167545-4805-4534-a8c0-9e3161edc02a",
      "metadata": {
        "height": 30,
        "id": "63167545-4805-4534-a8c0-9e3161edc02a"
      },
      "outputs": [],
      "source": []
    },
    {
      "cell_type": "code",
      "execution_count": null,
      "id": "eea5a420-9c52-441c-b868-6ce69c498477",
      "metadata": {
        "height": 30,
        "id": "eea5a420-9c52-441c-b868-6ce69c498477"
      },
      "outputs": [],
      "source": []
    },
    {
      "cell_type": "code",
      "execution_count": null,
      "id": "1ab51675-a078-4704-b63b-9f722d86b0d9",
      "metadata": {
        "height": 30,
        "id": "1ab51675-a078-4704-b63b-9f722d86b0d9"
      },
      "outputs": [],
      "source": []
    },
    {
      "cell_type": "code",
      "execution_count": null,
      "id": "0d4c2a24-c011-4c44-a78e-611143ff3034",
      "metadata": {
        "height": 30,
        "id": "0d4c2a24-c011-4c44-a78e-611143ff3034"
      },
      "outputs": [],
      "source": []
    },
    {
      "cell_type": "code",
      "execution_count": null,
      "id": "600778a5-a4d5-44aa-b3a7-172c82e74eed",
      "metadata": {
        "height": 30,
        "id": "600778a5-a4d5-44aa-b3a7-172c82e74eed"
      },
      "outputs": [],
      "source": []
    },
    {
      "cell_type": "code",
      "execution_count": null,
      "id": "60557042-93b5-4172-8aaa-1219ea35addb",
      "metadata": {
        "height": 30,
        "id": "60557042-93b5-4172-8aaa-1219ea35addb"
      },
      "outputs": [],
      "source": []
    },
    {
      "cell_type": "code",
      "execution_count": null,
      "id": "693f24b4-0796-4c2d-86ab-0d23766551d3",
      "metadata": {
        "height": 30,
        "id": "693f24b4-0796-4c2d-86ab-0d23766551d3"
      },
      "outputs": [],
      "source": []
    },
    {
      "cell_type": "code",
      "execution_count": null,
      "id": "611029f7-e4c5-45b0-bcc9-9ec214a32686",
      "metadata": {
        "height": 30,
        "id": "611029f7-e4c5-45b0-bcc9-9ec214a32686"
      },
      "outputs": [],
      "source": []
    },
    {
      "cell_type": "code",
      "execution_count": null,
      "id": "e20ed315-b80a-4d82-bda8-41cc54b30b36",
      "metadata": {
        "height": 30,
        "id": "e20ed315-b80a-4d82-bda8-41cc54b30b36"
      },
      "outputs": [],
      "source": []
    },
    {
      "cell_type": "code",
      "execution_count": null,
      "id": "be374e72-c849-4962-bb50-33607824bab1",
      "metadata": {
        "height": 30,
        "id": "be374e72-c849-4962-bb50-33607824bab1"
      },
      "outputs": [],
      "source": []
    },
    {
      "cell_type": "code",
      "execution_count": null,
      "id": "9a7702f2-cee6-4649-a662-6d1dc9d49e0c",
      "metadata": {
        "height": 30,
        "id": "9a7702f2-cee6-4649-a662-6d1dc9d49e0c"
      },
      "outputs": [],
      "source": []
    },
    {
      "cell_type": "code",
      "execution_count": null,
      "id": "37a2ba14-9908-48b1-adad-1ef764114254",
      "metadata": {
        "height": 30,
        "id": "37a2ba14-9908-48b1-adad-1ef764114254"
      },
      "outputs": [],
      "source": []
    }
  ],
  "metadata": {
    "kernelspec": {
      "display_name": "Python 3 (ipykernel)",
      "language": "python",
      "name": "python3"
    },
    "language_info": {
      "codemirror_mode": {
        "name": "ipython",
        "version": 3
      },
      "file_extension": ".py",
      "mimetype": "text/x-python",
      "name": "python",
      "nbconvert_exporter": "python",
      "pygments_lexer": "ipython3",
      "version": "3.9.18"
    },
    "colab": {
      "provenance": []
    }
  },
  "nbformat": 4,
  "nbformat_minor": 5
}